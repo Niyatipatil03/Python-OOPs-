{
  "nbformat": 4,
  "nbformat_minor": 0,
  "metadata": {
    "colab": {
      "provenance": []
    },
    "kernelspec": {
      "name": "python3",
      "display_name": "Python 3"
    },
    "language_info": {
      "name": "python"
    }
  },
  "cells": [
    {
      "cell_type": "markdown",
      "source": [
        "Python OOPs Questions"
      ],
      "metadata": {
        "id": "dnESCkIHIY2D"
      }
    },
    {
      "cell_type": "markdown",
      "source": [
        "1.What is Object-Oriented Programming (OOP)?\n",
        "\n",
        "\n",
        "*   OOP is a programming paradigm where we design programs using objects (real-world entities).\n",
        "*   It focuses on concepts like classes, objects, inheritance, polymorphism, abstraction, and encapsulation.\n",
        "\n",
        "\n"
      ],
      "metadata": {
        "id": "hKaj-4VOSbVw"
      }
    },
    {
      "cell_type": "markdown",
      "source": [
        "2.What is a class in OOP?\n",
        "\n",
        "\n",
        "*   A class is a blueprint for creating objects.\n",
        "*   It defines attributes (variables) and methods (functions) that describe the object.\n",
        "\n",
        "    \n",
        "  \n",
        "    class Car:\n",
        "      def __init__(self, brand, model):\n",
        "          self.brand = brand\n",
        "          self.model = model\n",
        "\n",
        "\n"
      ],
      "metadata": {
        "id": "He30G252SqEz"
      }
    },
    {
      "cell_type": "markdown",
      "source": [
        "3.What is an object in OOP?\n",
        "\n",
        "\n",
        "*   An object is an instance of a class.\n",
        "*   It represents a real-world entity with data (attributes) and behavior (methods).\n",
        "\n",
        "\n",
        "    car1 = Car(\"Toyota\", \"Corolla\")  # object of class Car\n",
        "\n",
        "\n"
      ],
      "metadata": {
        "id": "cO4n36EFTBoX"
      }
    },
    {
      "cell_type": "markdown",
      "source": [
        "4.What is the difference between abstraction and encapsulation?\n",
        "*   Abstraction → Hides implementation details, shows only necessary features. (e.g., you use .sort() without knowing the sorting algorithm inside)\n",
        "*   Encapsulation → Wrapping variables and methods together inside a class, restricting direct access."
      ],
      "metadata": {
        "id": "FcFX2Yp6TN2b"
      }
    },
    {
      "cell_type": "markdown",
      "source": [
        "5.What are dunder methods in Python?\n",
        "*   Dunder methods = double underscore methods (a.k.a. magic methods).\n",
        "*   They start and end with __.\n",
        "*   Examples: __init__, __str__, __len__, __call__."
      ],
      "metadata": {
        "id": "REjxK35BTaRd"
      }
    },
    {
      "cell_type": "markdown",
      "source": [
        "6.Explain the concept of inheritance in OOP\n",
        "*   Inheritance allows a class to reuse properties and methods of another class.\n",
        "\n",
        "\n",
        "    class Animal:\n",
        "      def sound(self):\n",
        "          print(\"Some sound\")\n",
        "\n",
        "    class Dog(Animal):\n",
        "      def sound(self):\n",
        "          print(\"Bark\")\n"
      ],
      "metadata": {
        "id": "4TP9nec4Tsua"
      }
    },
    {
      "cell_type": "markdown",
      "source": [
        "7.What is polymorphism in OOP?\n",
        "*   Polymorphism means many forms.\n",
        "*   The same method name can behave differently depending on the object.\n",
        "\n",
        "\n",
        "    for animal in [Dog(), Animal()]:\n",
        "      animal.sound()  # Dog → Bark, Animal → Some sound\n"
      ],
      "metadata": {
        "id": "_SmdMcw2T8YS"
      }
    },
    {
      "cell_type": "markdown",
      "source": [
        "8.How is encapsulation achieved in Python?\n",
        "*   Encapsulation is achieved by making variables private (using _ or __).\n",
        "\n",
        "  \n",
        "    class BankAccount:\n",
        "      def __init__(self, balance):\n",
        "          self.__balance = balance  # private variable\n"
      ],
      "metadata": {
        "id": "Xl3ngwfwUMIl"
      }
    },
    {
      "cell_type": "markdown",
      "source": [
        "9.What is a constructor in Python?\n",
        "*   __init__ method is the constructor.\n",
        "*   It is called automatically when creating an object.\n",
        "\n",
        "\n",
        "    class Student:\n",
        "      def __init__(self, name):\n",
        "          self.name = name\n"
      ],
      "metadata": {
        "id": "X9RFl8KBUY3_"
      }
    },
    {
      "cell_type": "markdown",
      "source": [
        "10.What are class and static methods in Python?\n",
        "*   Class Method → Works with class variables, defined using @classmethod.\n",
        "*   Static Method → Utility method, does not need self or cls, defined using @staticmethod.\n",
        "\n",
        "\n",
        "        class Example:\n",
        "          count = 0\n",
        "          #classmethod\n",
        "          def update_count(cls):\n",
        "              cls.count += 1\n",
        "          #staticmethod\n",
        "          def greet():\n",
        "              print(\"Hello!\")\n"
      ],
      "metadata": {
        "id": "UBib1P5hUoJZ"
      }
    },
    {
      "cell_type": "markdown",
      "source": [
        "11.What is method overloading in Python?\n",
        "*   Python doesn’t support true overloading.\n",
        "Instead, we use default arguments or *args.\n",
        "\n",
        "\n",
        "    class Math:\n",
        "      def add(self, a, b=0):\n",
        "          return a + b\n"
      ],
      "metadata": {
        "id": "TEofYwmRVFLb"
      }
    },
    {
      "cell_type": "markdown",
      "source": [
        "12.What is method overriding in OOP?\n",
        "*   When a child class provides a new definition for a method in the parent class.\n",
        "\n",
        "\n",
        "    class Parent:\n",
        "      def show(self):\n",
        "          print(\"Parent\")\n",
        "\n",
        "    class Child(Parent):\n",
        "      def show(self):\n",
        "          print(\"Child\")\n",
        "\n"
      ],
      "metadata": {
        "id": "kZiQfIObVWge"
      }
    },
    {
      "cell_type": "markdown",
      "source": [
        "13.What is a property decorator in Python?\n",
        "*  It makes a method behave like an attribute (getter).\n",
        "\n",
        "  \n",
        "        \n",
        "        class Person:\n",
        "          def __init__(self, age):\n",
        "            self._age = age\n",
        "            #property\n",
        "          def age(self):\n",
        "            return self._age\n"
      ],
      "metadata": {
        "id": "LOwOc-Q2Vkan"
      }
    },
    {
      "cell_type": "markdown",
      "source": [
        "14.Why is polymorphism important in OOP?\n",
        "*   It makes code flexible and reusable, as the same interface can be used for different data types or classes.\n"
      ],
      "metadata": {
        "id": "9ZuMSlagV6kq"
      }
    },
    {
      "cell_type": "markdown",
      "source": [
        "15.What is an abstract class in Python?\n",
        "*  A class that cannot be instantiated and may contain abstract methods (defined but not implemented).\n",
        "*  Implemented using abc module.\n",
        "\n",
        "\n",
        "    from abc import ABC, abstractmethod\n",
        "    class Shape(ABC):\n",
        "      #abstractmethod\n",
        "      def area(self):\n",
        "          pass\n"
      ],
      "metadata": {
        "id": "vvuSM3NwWHzy"
      }
    },
    {
      "cell_type": "markdown",
      "source": [
        "16.What are the advantages of OOP?\n",
        "* Code reusability (inheritance)\n",
        "\n",
        "* Easy maintenance\n",
        "\n",
        "* Encapsulation ensures security\n",
        "\n",
        "* Abstraction hides complexity\n",
        "\n",
        "* Polymorphism increases flexibility"
      ],
      "metadata": {
        "id": "ZF3MFs3kWbyy"
      }
    },
    {
      "cell_type": "markdown",
      "source": [
        "17.What is the difference between a class variable and an instance variable?\n",
        "*  Class variable → Shared by all objects.\n",
        "*  Instance variable → Unique to each object."
      ],
      "metadata": {
        "id": "CCZlx3NSWoLl"
      }
    },
    {
      "cell_type": "markdown",
      "source": [
        "18.What is multiple inheritance in Python?\n",
        "*  Multiple inheritance means a class can inherit from more than one parent class\n",
        "\n",
        "\n",
        "\n",
        "\n",
        "    \n",
        "    class A:\n",
        "      \n",
        "      pass\n",
        "    \n",
        "    class B:\n",
        "      \n",
        "      pass\n",
        "\n",
        "    class C(A, B):\n",
        "      \n",
        "      pass\n",
        "\n",
        "\n",
        "\n",
        "    obj.show()     # From A\n",
        "\n",
        "\n",
        "    obj.display()  # From B\n"
      ],
      "metadata": {
        "id": "v_vOqbAVTI6O"
      }
    },
    {
      "cell_type": "markdown",
      "source": [
        "19.Explain the purpose of ‘’__str__’ and ‘__repr__’ ‘ methods in Python\n",
        "*  __str__ → User-friendly string (print(object)).\n",
        "*  __repr__ → Developer-friendly representation (debugging)"
      ],
      "metadata": {
        "id": "1eShmdU0_fQs"
      }
    },
    {
      "cell_type": "markdown",
      "source": [
        "20.What is the significance of the ‘super()’ function in Python?\n",
        "*  Used to call parent class constructor or method inside a child class.\n"
      ],
      "metadata": {
        "id": "K7ib_oyV_pB1"
      }
    },
    {
      "cell_type": "markdown",
      "source": [
        "21.What is the significance of the __del__ method in Python?\n",
        "*  Destructor method, called when an object is about to be deleted (cleanup)."
      ],
      "metadata": {
        "id": "tJMfwCUk_wyE"
      }
    },
    {
      "cell_type": "markdown",
      "source": [
        "22.What is the difference between @staticmethod and @classmethod in Python?\n",
        "*  @staticmethod → No access to class or instance.\n",
        "*  @classmethod → Has access to class (cls) but not instance."
      ],
      "metadata": {
        "id": "iz4nt74s_2tU"
      }
    },
    {
      "cell_type": "markdown",
      "source": [
        "23.How does polymorphism work in Python with inheritance?\n",
        "*  Child classes can override methods of parent classes → different behavior with the same method name."
      ],
      "metadata": {
        "id": "sQCj8jHU__u1"
      }
    },
    {
      "cell_type": "markdown",
      "source": [
        "24. What is method chaining in Python OOP?\n",
        "*  Calling multiple methods on the same object in a single line, because each method returns self.\n",
        "\n",
        "\n",
        "    \n",
        "    \n",
        "      \n",
        "        class Builder:\n",
        "          def step1(self):\n",
        "            print(\"Step1\");\n",
        "          return self\n",
        "          \n",
        "          def step2(self):\n",
        "            print(\"Step2\");\n",
        "          return self\n",
        "\n",
        "        Builder().step1().step2()\n"
      ],
      "metadata": {
        "id": "P-7RW6SKAI3P"
      }
    },
    {
      "cell_type": "markdown",
      "source": [
        "25.What is the purpose of the __call__ method in Python?\n",
        "*  Makes an object behave like a function.\n",
        "\n",
        "\n",
        "\n",
        "        class Adder:\n",
        "          def __call__(self, a, b):\n",
        "        return a + b\n",
        "\n",
        "        add = Adder()\n",
        "        print(add(3, 5))  # object called like function\n"
      ],
      "metadata": {
        "id": "WyKR2SZ8BF_d"
      }
    },
    {
      "cell_type": "markdown",
      "source": [
        "Practical Questions"
      ],
      "metadata": {
        "id": "Lc4311j3BbY3"
      }
    },
    {
      "cell_type": "markdown",
      "source": [
        "1.Create a parent class Animal with a method speak() that prints a generic message. Create a child class Dog\n",
        "that overrides the speak() method to print \"Bark!"
      ],
      "metadata": {
        "id": "_fISSz5vBeH-"
      }
    },
    {
      "cell_type": "code",
      "source": [
        "class Animal:\n",
        "    def speak(self):\n",
        "        print(\"This animal makes a sound.\")\n",
        "\n",
        "class Dog(Animal):\n",
        "    def speak(self):\n",
        "        print(\"Bark!\")\n",
        "\n",
        "a = Animal()\n",
        "a.speak()\n",
        "\n",
        "d = Dog()\n",
        "d.speak()\n"
      ],
      "metadata": {
        "colab": {
          "base_uri": "https://localhost:8080/"
        },
        "id": "Auu3OuSA_Ygh",
        "outputId": "88460d2a-cc0c-44e4-edaf-f55c3449d504"
      },
      "execution_count": 1,
      "outputs": [
        {
          "output_type": "stream",
          "name": "stdout",
          "text": [
            "This animal makes a sound.\n",
            "Bark!\n"
          ]
        }
      ]
    },
    {
      "cell_type": "markdown",
      "source": [
        "2. Write a program to create an abstract class Shape with a method area(). Derive classes Circle and Rectangle\n",
        "from it and implement the area() method in both."
      ],
      "metadata": {
        "id": "GDZMERc9BmT4"
      }
    },
    {
      "cell_type": "code",
      "source": [
        "from abc import ABC, abstractmethod\n",
        "\n",
        "class Shape(ABC):\n",
        "    @abstractmethod\n",
        "    def area(self):\n",
        "        pass\n",
        "\n",
        "class Circle(Shape):\n",
        "    def __init__(self, radius):\n",
        "        self.radius = radius\n",
        "\n",
        "    def area(self):\n",
        "        return 3.14 * self.radius * self.radius\n",
        "\n",
        "class Rectangle(Shape):\n",
        "    def __init__(self, length, width):\n",
        "        self.length = length\n",
        "        self.width = width\n",
        "\n",
        "    def area(self):\n",
        "        return self.length * self.width\n",
        "\n",
        "c = Circle(5)\n",
        "r = Rectangle(4, 6)\n",
        "print(\"Circle area:\", c.area())\n",
        "print(\"Rectangle area:\", r.area())\n"
      ],
      "metadata": {
        "colab": {
          "base_uri": "https://localhost:8080/"
        },
        "id": "Dh4Xi7hGBir8",
        "outputId": "274eace3-587d-45ea-d49f-c62adcfaf558"
      },
      "execution_count": 2,
      "outputs": [
        {
          "output_type": "stream",
          "name": "stdout",
          "text": [
            "Circle area: 78.5\n",
            "Rectangle area: 24\n"
          ]
        }
      ]
    },
    {
      "cell_type": "markdown",
      "source": [
        "3. Implement a multi-level inheritance scenario where a class Vehicle has an attribute type. Derive a class Car\n",
        "and further derive a class ElectricCar that adds a battery attribute."
      ],
      "metadata": {
        "id": "j1CjLTmKBt0q"
      }
    },
    {
      "cell_type": "code",
      "source": [
        "class Vehicle:\n",
        "    def __init__(self, type):\n",
        "        self.type = type\n",
        "\n",
        "class Car(Vehicle):\n",
        "    def __init__(self, type, brand):\n",
        "        super().__init__(type)\n",
        "        self.brand = brand\n",
        "\n",
        "class ElectricCar(Car):\n",
        "    def __init__(self, type, brand, battery):\n",
        "        super().__init__(type, brand)\n",
        "        self.battery = battery\n",
        "\n",
        "e = ElectricCar(\"Four-wheeler\", \"Tesla\", \"100kWh\")\n",
        "print(e.type, e.brand, e.battery)\n"
      ],
      "metadata": {
        "colab": {
          "base_uri": "https://localhost:8080/"
        },
        "id": "Zr5CGsfjBrz9",
        "outputId": "1ce04110-9e16-458f-f903-04bc7b0d5368"
      },
      "execution_count": 4,
      "outputs": [
        {
          "output_type": "stream",
          "name": "stdout",
          "text": [
            "Four-wheeler Tesla 100kWh\n"
          ]
        }
      ]
    },
    {
      "cell_type": "markdown",
      "source": [
        "4. Demonstrate polymorphism by creating a base class Bird with a method fly(). Create two derived classes\n",
        "Sparrow and Penguin that override the fly() method.\n"
      ],
      "metadata": {
        "id": "TTGLE4_mB3eL"
      }
    },
    {
      "cell_type": "code",
      "source": [
        "class Bird:\n",
        "    def fly(self):\n",
        "        print(\"Birds can fly.\")\n",
        "\n",
        "class Sparrow(Bird):\n",
        "    def fly(self):\n",
        "        print(\"Sparrow flies high.\")\n",
        "\n",
        "class Penguin(Bird):\n",
        "    def fly(self):\n",
        "        print(\"Penguins cannot fly.\")\n",
        "\n",
        "birds = [Sparrow(), Penguin()]\n",
        "for b in birds:\n",
        "    b.fly()\n"
      ],
      "metadata": {
        "colab": {
          "base_uri": "https://localhost:8080/"
        },
        "id": "eXxeTaNABzoc",
        "outputId": "9902b757-1378-43cc-dd80-03ea830544ac"
      },
      "execution_count": 6,
      "outputs": [
        {
          "output_type": "stream",
          "name": "stdout",
          "text": [
            "Sparrow flies high.\n",
            "Penguins cannot fly.\n"
          ]
        }
      ]
    },
    {
      "cell_type": "markdown",
      "source": [
        "5. Write a program to demonstrate encapsulation by creating a class BankAccount with private attributes\n",
        "balance and methods to deposit, withdraw, and check balance."
      ],
      "metadata": {
        "id": "qlcFv-bpB9h-"
      }
    },
    {
      "cell_type": "code",
      "source": [
        "class BankAccount:\n",
        "    def __init__(self, balance=0):\n",
        "        self.__balance = balance  # private\n",
        "\n",
        "    def deposit(self, amount):\n",
        "        self.__balance += amount\n",
        "\n",
        "    def withdraw(self, amount):\n",
        "        if amount <= self.__balance:\n",
        "            self.__balance -= amount\n",
        "        else:\n",
        "            print(\"Insufficient funds\")\n",
        "\n",
        "    def get_balance(self):\n",
        "        return self.__balance\n",
        "\n",
        "acc = BankAccount(1000)\n",
        "acc.deposit(500)\n",
        "acc.withdraw(200)\n",
        "print(\"Balance:\", acc.get_balance())\n"
      ],
      "metadata": {
        "colab": {
          "base_uri": "https://localhost:8080/"
        },
        "id": "B81VRrdCB6Vp",
        "outputId": "8b1cf2f3-15fc-4d07-969e-8326447af0cb"
      },
      "execution_count": 7,
      "outputs": [
        {
          "output_type": "stream",
          "name": "stdout",
          "text": [
            "Balance: 1300\n"
          ]
        }
      ]
    },
    {
      "cell_type": "markdown",
      "source": [
        "6. Demonstrate runtime polymorphism using a method play() in a base class Instrument. Derive classes Guitar\n",
        "and Piano that implement their own version of play()."
      ],
      "metadata": {
        "id": "hD9QxZoRCBmN"
      }
    },
    {
      "cell_type": "code",
      "source": [
        "class Instrument:\n",
        "    def play(self):\n",
        "        print(\"Instrument is playing.\")\n",
        "\n",
        "class Guitar(Instrument):\n",
        "    def play(self):\n",
        "        print(\"Strumming the guitar.\")\n",
        "\n",
        "class Piano(Instrument):\n",
        "    def play(self):\n",
        "        print(\"Playing the piano.\")\n",
        "\n",
        "instruments = [Guitar(), Piano()]\n",
        "for i in instruments:\n",
        "    i.play()\n"
      ],
      "metadata": {
        "colab": {
          "base_uri": "https://localhost:8080/"
        },
        "id": "xDcSTA26CAeA",
        "outputId": "858bc337-202f-48b8-fe58-052f241cd4b6"
      },
      "execution_count": 8,
      "outputs": [
        {
          "output_type": "stream",
          "name": "stdout",
          "text": [
            "Strumming the guitar.\n",
            "Playing the piano.\n"
          ]
        }
      ]
    },
    {
      "cell_type": "markdown",
      "source": [
        "7.Create a class MathOperations with a class method add_numbers() to add two numbers and a static\n",
        "method subtract_numbers() to subtract two numbers."
      ],
      "metadata": {
        "id": "k7QVR2zhCJQl"
      }
    },
    {
      "cell_type": "code",
      "source": [
        "class MathOperations:\n",
        "    @classmethod\n",
        "    def add_numbers(cls, a, b):\n",
        "        return a + b\n",
        "\n",
        "    @staticmethod\n",
        "    def subtract_numbers(a, b):\n",
        "        return a - b\n",
        "\n",
        "print(\"Add:\", MathOperations.add_numbers(5, 3))\n",
        "print(\"Subtract:\", MathOperations.subtract_numbers(10, 4))\n"
      ],
      "metadata": {
        "colab": {
          "base_uri": "https://localhost:8080/"
        },
        "id": "JUkVJ293CGte",
        "outputId": "21af9e47-572d-4ff4-a9c3-c3b3edb93e9b"
      },
      "execution_count": 10,
      "outputs": [
        {
          "output_type": "stream",
          "name": "stdout",
          "text": [
            "Add: 8\n",
            "Subtract: 6\n"
          ]
        }
      ]
    },
    {
      "cell_type": "markdown",
      "source": [
        "8. Implement a class Person with a class method to count the total number of persons created."
      ],
      "metadata": {
        "id": "fAXD8k50CSaO"
      }
    },
    {
      "cell_type": "code",
      "source": [
        "class Person:\n",
        "    count = 0\n",
        "\n",
        "    def __init__(self, name):\n",
        "        self.name = name\n",
        "        Person.count += 1\n",
        "\n",
        "    @classmethod\n",
        "    def total_persons(cls):\n",
        "        return cls.count\n",
        "\n",
        "p1 = Person(\"Alice\")\n",
        "p2 = Person(\"Bob\")\n",
        "print(\"Total persons:\", Person.total_persons())\n"
      ],
      "metadata": {
        "colab": {
          "base_uri": "https://localhost:8080/"
        },
        "id": "BfUBF8n6CO2n",
        "outputId": "63f5b947-d4f0-42c7-ad92-5f829fa311ca"
      },
      "execution_count": 11,
      "outputs": [
        {
          "output_type": "stream",
          "name": "stdout",
          "text": [
            "Total persons: 2\n"
          ]
        }
      ]
    },
    {
      "cell_type": "markdown",
      "source": [
        "9. Write a class Fraction with attributes numerator and denominator. Override the str method to display the\n",
        "fraction as \"numerator/denominator\"."
      ],
      "metadata": {
        "id": "tLZrPgF4CWmn"
      }
    },
    {
      "cell_type": "code",
      "source": [
        "class Fraction:\n",
        "    def __init__(self, numerator, denominator):\n",
        "        self.numerator = numerator\n",
        "        self.denominator = denominator\n",
        "\n",
        "    def __str__(self):\n",
        "        return f\"{self.numerator}/{self.denominator}\"\n",
        "\n",
        "f = Fraction(3, 4)\n",
        "print(f)\n"
      ],
      "metadata": {
        "colab": {
          "base_uri": "https://localhost:8080/"
        },
        "id": "dtwB5pTCCVFX",
        "outputId": "296c5551-d76f-4849-8bb8-960648cd4294"
      },
      "execution_count": 12,
      "outputs": [
        {
          "output_type": "stream",
          "name": "stdout",
          "text": [
            "3/4\n"
          ]
        }
      ]
    },
    {
      "cell_type": "markdown",
      "source": [
        "10. Demonstrate operator overloading by creating a class Vector and overriding the add method to add two\n",
        "vectors."
      ],
      "metadata": {
        "id": "WPuyHvcdCdo7"
      }
    },
    {
      "cell_type": "code",
      "source": [
        "class Vector:\n",
        "    def __init__(self, x, y):\n",
        "        self.x = x\n",
        "        self.y = y\n",
        "\n",
        "    def __add__(self, other):\n",
        "        return Vector(self.x + other.x, self.y + other.y)\n",
        "\n",
        "    def __str__(self):\n",
        "        return f\"({self.x}, {self.y})\"\n",
        "\n",
        "# Test\n",
        "v1 = Vector(2, 3)\n",
        "v2 = Vector(4, 5)\n",
        "print(v1 + v2)\n"
      ],
      "metadata": {
        "colab": {
          "base_uri": "https://localhost:8080/"
        },
        "id": "FbPYjARcCb89",
        "outputId": "63466d4f-981b-4009-927d-a4d2966244ee"
      },
      "execution_count": 13,
      "outputs": [
        {
          "output_type": "stream",
          "name": "stdout",
          "text": [
            "(6, 8)\n"
          ]
        }
      ]
    },
    {
      "cell_type": "markdown",
      "source": [
        "11. Create a class Person with attributes name and age. Add a method greet() that prints \"Hello, my name is\n",
        "{name} and I am {age} years old.\""
      ],
      "metadata": {
        "id": "zBK65oG3CiDU"
      }
    },
    {
      "cell_type": "code",
      "source": [
        "class Person:\n",
        "    def __init__(self, name, age):\n",
        "        self.name = name\n",
        "        self.age = age\n",
        "\n",
        "    def greet(self):\n",
        "        print(f\"Hello, my name is {self.name} and I am {self.age} years old.\")\n",
        "\n",
        "# Test\n",
        "p = Person(\"Niyati\", 21)\n",
        "p.greet()\n"
      ],
      "metadata": {
        "colab": {
          "base_uri": "https://localhost:8080/"
        },
        "id": "zowMAolFCmq4",
        "outputId": "8a7d7b8c-03d3-400b-907d-494183f44c95"
      },
      "execution_count": 14,
      "outputs": [
        {
          "output_type": "stream",
          "name": "stdout",
          "text": [
            "Hello, my name is Niyati and I am 21 years old.\n"
          ]
        }
      ]
    },
    {
      "cell_type": "markdown",
      "source": [
        "12. Implement a class Student with attributes name and grades. Create a method average_grade() to compute\n",
        "the average of the grades."
      ],
      "metadata": {
        "id": "iZeF8t4oCqMF"
      }
    },
    {
      "cell_type": "code",
      "source": [
        "class Student:\n",
        "    def __init__(self, name, grades):\n",
        "        self.name = name\n",
        "        self.grades = grades\n",
        "\n",
        "    def average_grade(self):\n",
        "        return sum(self.grades) / len(self.grades)\n",
        "\n",
        "# Test\n",
        "s = Student(\"Gargi\", [85, 90, 78])\n",
        "print(\"Average:\", s.average_grade())\n"
      ],
      "metadata": {
        "colab": {
          "base_uri": "https://localhost:8080/"
        },
        "id": "s2K68YsTCpGS",
        "outputId": "b810bde2-0690-4faf-ddd0-739a2c275153"
      },
      "execution_count": 15,
      "outputs": [
        {
          "output_type": "stream",
          "name": "stdout",
          "text": [
            "Average: 84.33333333333333\n"
          ]
        }
      ]
    },
    {
      "cell_type": "markdown",
      "source": [
        "13.Create a class Rectangle with methods set_dimensions() to set the dimensions and area() to calculate the\n",
        "area."
      ],
      "metadata": {
        "id": "PW8cMsFhCxmp"
      }
    },
    {
      "cell_type": "code",
      "source": [
        "class Rectangle:\n",
        "    def set_dimensions(self, length, width):\n",
        "        self.length = length\n",
        "        self.width = width\n",
        "\n",
        "    def area(self):\n",
        "        return self.length * self.width\n",
        "\n",
        "# Test\n",
        "r = Rectangle()\n",
        "r.set_dimensions(5, 4)\n",
        "print(\"Area:\", r.area())\n"
      ],
      "metadata": {
        "colab": {
          "base_uri": "https://localhost:8080/"
        },
        "id": "HmKYbSFLCvCL",
        "outputId": "f0e8bc42-0019-448a-8668-a2bb6ea539fe"
      },
      "execution_count": 16,
      "outputs": [
        {
          "output_type": "stream",
          "name": "stdout",
          "text": [
            "Area: 20\n"
          ]
        }
      ]
    },
    {
      "cell_type": "markdown",
      "source": [
        "14. Create a class Employee with a method calculate_salary() that computes the salary based on hours worked\n",
        "and hourly rate. Create a derived class Manager that adds a bonus to the salary."
      ],
      "metadata": {
        "id": "O2cvG8dVC7k8"
      }
    },
    {
      "cell_type": "code",
      "source": [
        "class Employee:\n",
        "    def __init__(self, hours, rate):\n",
        "        self.hours = hours\n",
        "        self.rate = rate\n",
        "\n",
        "    def calculate_salary(self):\n",
        "        return self.hours * self.rate\n",
        "\n",
        "class Manager(Employee):\n",
        "    def __init__(self, hours, rate, bonus):\n",
        "        super().__init__(hours, rate)\n",
        "        self.bonus = bonus\n",
        "\n",
        "    def calculate_salary(self):\n",
        "        return super().calculate_salary() + self.bonus\n",
        "\n",
        "# Test\n",
        "m = Manager(40, 50, 2000)\n",
        "print(\"Manager Salary:\", m.calculate_salary())\n"
      ],
      "metadata": {
        "colab": {
          "base_uri": "https://localhost:8080/"
        },
        "id": "gdcGsJzyC3du",
        "outputId": "32d9352a-3731-4812-a57e-67bc6c28dc6a"
      },
      "execution_count": 17,
      "outputs": [
        {
          "output_type": "stream",
          "name": "stdout",
          "text": [
            "Manager Salary: 4000\n"
          ]
        }
      ]
    },
    {
      "cell_type": "markdown",
      "source": [
        "15. Create a class Product with attributes name, price, and quantity. Implement a method total_price() that\n",
        "calculates the total price of the product."
      ],
      "metadata": {
        "id": "T30SZJ2ZC_dp"
      }
    },
    {
      "cell_type": "code",
      "source": [
        "class Product:\n",
        "    def __init__(self, name, price, quantity):\n",
        "        self.name = name\n",
        "        self.price = price\n",
        "        self.quantity = quantity\n",
        "\n",
        "    def total_price(self):\n",
        "        return self.price * self.quantity\n",
        "\n",
        "p = Product(\"Laptop\", 50000, 2)\n",
        "print(f\"Total price of {p.name}: ₹{p.total_price()}\")\n"
      ],
      "metadata": {
        "colab": {
          "base_uri": "https://localhost:8080/"
        },
        "id": "2zF2ZeOeC-XD",
        "outputId": "285913ef-54dc-4f87-8ee8-193d839b4815"
      },
      "execution_count": 18,
      "outputs": [
        {
          "output_type": "stream",
          "name": "stdout",
          "text": [
            "Total price of Laptop: ₹100000\n"
          ]
        }
      ]
    },
    {
      "cell_type": "markdown",
      "source": [
        "16.Create a class Animal with an abstract method sound(). Create two derived classes Cow and Sheep that\n",
        "implement the sound() method."
      ],
      "metadata": {
        "id": "2XLTHWlQH9ou"
      }
    },
    {
      "cell_type": "code",
      "source": [
        "from abc import ABC, abstractmethod\n",
        "\n",
        "class Animal(ABC):\n",
        "    @abstractmethod\n",
        "    def sound(self):\n",
        "        pass\n",
        "\n",
        "class Cow(Animal):\n",
        "    def sound(self):\n",
        "        return \"Moo\"\n",
        "\n",
        "class Sheep(Animal):\n",
        "    def sound(self):\n",
        "        return \"Baa\"\n",
        "\n",
        "c = Cow()\n",
        "s = Sheep()\n",
        "print(\"Cow sound:\", c.sound())\n",
        "print(\"Sheep sound:\", s.sound())\n"
      ],
      "metadata": {
        "colab": {
          "base_uri": "https://localhost:8080/"
        },
        "id": "ucHLH-IUH8pM",
        "outputId": "c25b2faa-cbb9-48a3-dd9f-a8e5a616fda5"
      },
      "execution_count": 19,
      "outputs": [
        {
          "output_type": "stream",
          "name": "stdout",
          "text": [
            "Cow sound: Moo\n",
            "Sheep sound: Baa\n"
          ]
        }
      ]
    },
    {
      "cell_type": "markdown",
      "source": [
        "17.Create a class Book with attributes title, author, and year_published. Add a method get_book_info() that\n",
        "returns a formatted string with the book's details.\n",
        "\n",
        "\n"
      ],
      "metadata": {
        "id": "RJ_nXpH0IH_A"
      }
    },
    {
      "cell_type": "code",
      "source": [
        "class Book:\n",
        "    def __init__(self, title, author, year_published):\n",
        "        self.title = title\n",
        "        self.author = author\n",
        "        self.year_published = year_published\n",
        "\n",
        "    def get_book_info(self):\n",
        "        return f\"'{self.title}' by {self.author}, published in {self.year_published}\"\n",
        "\n",
        "b = Book(\"Python Basics\", \"John Doe\", 2021)\n",
        "print(b.get_book_info())\n"
      ],
      "metadata": {
        "colab": {
          "base_uri": "https://localhost:8080/"
        },
        "id": "R2yY3-CUIGTD",
        "outputId": "12a9b141-c73e-4bfe-fb40-d19127192235"
      },
      "execution_count": 20,
      "outputs": [
        {
          "output_type": "stream",
          "name": "stdout",
          "text": [
            "'Python Basics' by John Doe, published in 2021\n"
          ]
        }
      ]
    },
    {
      "cell_type": "markdown",
      "source": [
        "18.Create a class House with attributes address and price. Create a derived class Mansion that adds an\n",
        "attribute number_of_rooms."
      ],
      "metadata": {
        "id": "pexSHk9ZIRFz"
      }
    },
    {
      "cell_type": "code",
      "source": [
        "class House:\n",
        "    def __init__(self, address, price):\n",
        "        self.address = address\n",
        "        self.price = price\n",
        "\n",
        "class Mansion(House):\n",
        "    def __init__(self, address, price, number_of_rooms):\n",
        "        super().__init__(address, price)\n",
        "        self.number_of_rooms = number_of_rooms\n",
        "\n",
        "m = Mansion(\"123 Elite Street\", 50000000, 12)\n",
        "print(f\"Address: {m.address}, Price: ₹{m.price}, Rooms: {m.number_of_rooms}\")\n"
      ],
      "metadata": {
        "colab": {
          "base_uri": "https://localhost:8080/"
        },
        "id": "35WLSytpIODC",
        "outputId": "2ab5c917-0517-4e1b-9d72-fe397cb95455"
      },
      "execution_count": 22,
      "outputs": [
        {
          "output_type": "stream",
          "name": "stdout",
          "text": [
            "Address: 123 Elite Street, Price: ₹50000000, Rooms: 12\n"
          ]
        }
      ]
    }
  ]
}